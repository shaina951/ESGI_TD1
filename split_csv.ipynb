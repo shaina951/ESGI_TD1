{
 "cells": [
  {
   "cell_type": "code",
   "execution_count": 9,
   "metadata": {},
   "outputs": [],
   "source": [
    "import pandas as pd\n",
    "import sklearn as sk"
   ]
  },
  {
   "cell_type": "code",
   "execution_count": 10,
   "metadata": {},
   "outputs": [],
   "source": [
    "file = r'../../data/raw/names_train - names_train.csv'"
   ]
  },
  {
   "cell_type": "code",
   "execution_count": 11,
   "metadata": {},
   "outputs": [],
   "source": [
    "df = pd.read_csv(file)"
   ]
  },
  {
   "cell_type": "markdown",
   "metadata": {},
   "source": [
    "\n",
    "from sklearn.model_selection import train_test_split\n",
    "\n",
    "# Mélanger les lignes du DataFrame\n",
    "df = df.sample(frac=1, random_state=42).reset_index(drop=True)\n",
    "\n",
    "# Calculer les pourcentages\n",
    "train_size = 0.7\n",
    "test_size = 0.2\n",
    "dev_size = 0.1\n",
    "\n",
    "# D'abord, on découpe entre train et le reste (test + dev)\n",
    "df_train, df_temp = train_test_split(df, test_size=(1 - train_size), random_state=42)\n",
    "\n",
    "# Puis, on découpe df_temp en test et dev\n",
    "relative_test_size = test_size / (test_size + dev_size)  # Pourcentage relatif à df_temp\n",
    "df_test, df_dev = train_test_split(df_temp, test_size=relative_test_size, random_state=42)\n",
    "\n",
    "# Sauvegarder les fichiers CSV\n",
    "df_train.to_csv('train.csv', index=False)\n",
    "df_test.to_csv('test.csv', index=False)\n",
    "df_dev.to_csv('dev.csv', index=False)\n",
    "\n",
    "print(\"Fichiers CSV créés : train.csv, test.csv, dev.csv\")\n"
   ]
  }
 ],
 "metadata": {
  "kernelspec": {
   "display_name": "Python 3 (ipykernel)",
   "language": "python",
   "name": "python3"
  },
  "language_info": {
   "codemirror_mode": {
    "name": "ipython",
    "version": 3
   },
   "file_extension": ".py",
   "mimetype": "text/x-python",
   "name": "python",
   "nbconvert_exporter": "python",
   "pygments_lexer": "ipython3",
   "version": "3.11.5"
  }
 },
 "nbformat": 4,
 "nbformat_minor": 2
}
