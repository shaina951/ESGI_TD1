{
 "cells": [
  {
   "cell_type": "code",
   "execution_count": 30,
   "id": "d3499d34",
   "metadata": {},
   "outputs": [
    {
     "name": "stdout",
     "output_type": "stream",
     "text": [
      "Requirement already satisfied: nltk in c:\\users\\shain\\anaconda3\\lib\\site-packages (3.8.1)\n",
      "Requirement already satisfied: click in c:\\users\\shain\\anaconda3\\lib\\site-packages (from nltk) (8.0.4)\n",
      "Requirement already satisfied: joblib in c:\\users\\shain\\anaconda3\\lib\\site-packages (from nltk) (1.2.0)\n",
      "Requirement already satisfied: regex>=2021.8.3 in c:\\users\\shain\\anaconda3\\lib\\site-packages (from nltk) (2022.7.9)\n",
      "Requirement already satisfied: tqdm in c:\\users\\shain\\anaconda3\\lib\\site-packages (from nltk) (4.65.0)\n",
      "Requirement already satisfied: colorama in c:\\users\\shain\\anaconda3\\lib\\site-packages (from click->nltk) (0.4.6)\n",
      "Note: you may need to restart the kernel to use updated packages.\n"
     ]
    }
   ],
   "source": [
    "pip install nltk"
   ]
  },
  {
   "cell_type": "code",
   "execution_count": 28,
   "id": "46e048e4",
   "metadata": {},
   "outputs": [],
   "source": [
    "import pandas as pd\n",
    "from sklearn.feature_extraction.text import CountVectorizer\n",
    "from sklearn.pipeline import Pipeline\n",
    "from sklearn.model_selection import train_test_split\n",
    "from sklearn.linear_model import LogisticRegression\n",
    "from sklearn.ensemble import RandomForestClassifier\n",
    "from joblib import dump\n",
    "from joblib import load"
   ]
  },
  {
   "cell_type": "code",
   "execution_count": 16,
   "id": "259e3f32",
   "metadata": {},
   "outputs": [],
   "source": [
    "def make_dataset(filename=\"names_train.csv\"):\n",
    "    return pd.read_csv(filename)"
   ]
  },
  {
   "cell_type": "code",
   "execution_count": 17,
   "id": "d7dd44ae",
   "metadata": {},
   "outputs": [
    {
     "data": {
      "text/html": [
       "<div>\n",
       "<style scoped>\n",
       "    .dataframe tbody tr th:only-of-type {\n",
       "        vertical-align: middle;\n",
       "    }\n",
       "\n",
       "    .dataframe tbody tr th {\n",
       "        vertical-align: top;\n",
       "    }\n",
       "\n",
       "    .dataframe thead th {\n",
       "        text-align: right;\n",
       "    }\n",
       "</style>\n",
       "<table border=\"1\" class=\"dataframe\">\n",
       "  <thead>\n",
       "    <tr style=\"text-align: right;\">\n",
       "      <th></th>\n",
       "      <th>video_name</th>\n",
       "      <th>is_comic</th>\n",
       "    </tr>\n",
       "  </thead>\n",
       "  <tbody>\n",
       "    <tr>\n",
       "      <th>0</th>\n",
       "      <td>Le Barbecue Disney - La chanson de Frédéric Fr...</td>\n",
       "      <td>1</td>\n",
       "    </tr>\n",
       "    <tr>\n",
       "      <th>1</th>\n",
       "      <td>Le Roi et l'Oiseau - La Chronique de Christine...</td>\n",
       "      <td>1</td>\n",
       "    </tr>\n",
       "    <tr>\n",
       "      <th>2</th>\n",
       "      <td>L'amour du lac - La chronique d'Hippolyte Gira...</td>\n",
       "      <td>1</td>\n",
       "    </tr>\n",
       "    <tr>\n",
       "      <th>3</th>\n",
       "      <td>La fille de la piscine de Léa Tourret - La chr...</td>\n",
       "      <td>0</td>\n",
       "    </tr>\n",
       "    <tr>\n",
       "      <th>4</th>\n",
       "      <td>\"Le soleil va moins faire son malin quand Jean...</td>\n",
       "      <td>0</td>\n",
       "    </tr>\n",
       "    <tr>\n",
       "      <th>...</th>\n",
       "      <td>...</td>\n",
       "      <td>...</td>\n",
       "    </tr>\n",
       "    <tr>\n",
       "      <th>994</th>\n",
       "      <td>Au Ces de Las Vegas des innovations à gogo et ...</td>\n",
       "      <td>0</td>\n",
       "    </tr>\n",
       "    <tr>\n",
       "      <th>995</th>\n",
       "      <td>Le questionnaire Jupiproust de Frédérique Matonti</td>\n",
       "      <td>1</td>\n",
       "    </tr>\n",
       "    <tr>\n",
       "      <th>996</th>\n",
       "      <td>Raphael - La Nuit N'en Finit Plus (cover)</td>\n",
       "      <td>0</td>\n",
       "    </tr>\n",
       "    <tr>\n",
       "      <th>997</th>\n",
       "      <td>Des sachets de drogue estampillés Haribeu sais...</td>\n",
       "      <td>1</td>\n",
       "    </tr>\n",
       "    <tr>\n",
       "      <th>998</th>\n",
       "      <td>\"1984\" par Xavier Coste : Prix Bd Fnac France ...</td>\n",
       "      <td>0</td>\n",
       "    </tr>\n",
       "  </tbody>\n",
       "</table>\n",
       "<p>999 rows × 2 columns</p>\n",
       "</div>"
      ],
      "text/plain": [
       "                                            video_name  is_comic\n",
       "0    Le Barbecue Disney - La chanson de Frédéric Fr...         1\n",
       "1    Le Roi et l'Oiseau - La Chronique de Christine...         1\n",
       "2    L'amour du lac - La chronique d'Hippolyte Gira...         1\n",
       "3    La fille de la piscine de Léa Tourret - La chr...         0\n",
       "4    \"Le soleil va moins faire son malin quand Jean...         0\n",
       "..                                                 ...       ...\n",
       "994  Au Ces de Las Vegas des innovations à gogo et ...         0\n",
       "995  Le questionnaire Jupiproust de Frédérique Matonti         1\n",
       "996          Raphael - La Nuit N'en Finit Plus (cover)         0\n",
       "997  Des sachets de drogue estampillés Haribeu sais...         1\n",
       "998  \"1984\" par Xavier Coste : Prix Bd Fnac France ...         0\n",
       "\n",
       "[999 rows x 2 columns]"
      ]
     },
     "execution_count": 17,
     "metadata": {},
     "output_type": "execute_result"
    }
   ],
   "source": [
    "make_dataset(filename=\"names_train.csv\")"
   ]
  },
  {
   "cell_type": "code",
   "execution_count": 27,
   "id": "729e55be",
   "metadata": {},
   "outputs": [
    {
     "name": "stdout",
     "output_type": "stream",
     "text": [
      "Entraînement du modèle linear terminé.\n",
      "Modèle sauvegardé dans le fichier : linear_model.joblib\n",
      "Entraînement du modèle random_forest terminé.\n",
      "Modèle sauvegardé dans le fichier : random_forest_model.joblib\n"
     ]
    },
    {
     "data": {
      "text/html": [
       "<style>#sk-container-id-1 {color: black;}#sk-container-id-1 pre{padding: 0;}#sk-container-id-1 div.sk-toggleable {background-color: white;}#sk-container-id-1 label.sk-toggleable__label {cursor: pointer;display: block;width: 100%;margin-bottom: 0;padding: 0.3em;box-sizing: border-box;text-align: center;}#sk-container-id-1 label.sk-toggleable__label-arrow:before {content: \"▸\";float: left;margin-right: 0.25em;color: #696969;}#sk-container-id-1 label.sk-toggleable__label-arrow:hover:before {color: black;}#sk-container-id-1 div.sk-estimator:hover label.sk-toggleable__label-arrow:before {color: black;}#sk-container-id-1 div.sk-toggleable__content {max-height: 0;max-width: 0;overflow: hidden;text-align: left;background-color: #f0f8ff;}#sk-container-id-1 div.sk-toggleable__content pre {margin: 0.2em;color: black;border-radius: 0.25em;background-color: #f0f8ff;}#sk-container-id-1 input.sk-toggleable__control:checked~div.sk-toggleable__content {max-height: 200px;max-width: 100%;overflow: auto;}#sk-container-id-1 input.sk-toggleable__control:checked~label.sk-toggleable__label-arrow:before {content: \"▾\";}#sk-container-id-1 div.sk-estimator input.sk-toggleable__control:checked~label.sk-toggleable__label {background-color: #d4ebff;}#sk-container-id-1 div.sk-label input.sk-toggleable__control:checked~label.sk-toggleable__label {background-color: #d4ebff;}#sk-container-id-1 input.sk-hidden--visually {border: 0;clip: rect(1px 1px 1px 1px);clip: rect(1px, 1px, 1px, 1px);height: 1px;margin: -1px;overflow: hidden;padding: 0;position: absolute;width: 1px;}#sk-container-id-1 div.sk-estimator {font-family: monospace;background-color: #f0f8ff;border: 1px dotted black;border-radius: 0.25em;box-sizing: border-box;margin-bottom: 0.5em;}#sk-container-id-1 div.sk-estimator:hover {background-color: #d4ebff;}#sk-container-id-1 div.sk-parallel-item::after {content: \"\";width: 100%;border-bottom: 1px solid gray;flex-grow: 1;}#sk-container-id-1 div.sk-label:hover label.sk-toggleable__label {background-color: #d4ebff;}#sk-container-id-1 div.sk-serial::before {content: \"\";position: absolute;border-left: 1px solid gray;box-sizing: border-box;top: 0;bottom: 0;left: 50%;z-index: 0;}#sk-container-id-1 div.sk-serial {display: flex;flex-direction: column;align-items: center;background-color: white;padding-right: 0.2em;padding-left: 0.2em;position: relative;}#sk-container-id-1 div.sk-item {position: relative;z-index: 1;}#sk-container-id-1 div.sk-parallel {display: flex;align-items: stretch;justify-content: center;background-color: white;position: relative;}#sk-container-id-1 div.sk-item::before, #sk-container-id-1 div.sk-parallel-item::before {content: \"\";position: absolute;border-left: 1px solid gray;box-sizing: border-box;top: 0;bottom: 0;left: 50%;z-index: -1;}#sk-container-id-1 div.sk-parallel-item {display: flex;flex-direction: column;z-index: 1;position: relative;background-color: white;}#sk-container-id-1 div.sk-parallel-item:first-child::after {align-self: flex-end;width: 50%;}#sk-container-id-1 div.sk-parallel-item:last-child::after {align-self: flex-start;width: 50%;}#sk-container-id-1 div.sk-parallel-item:only-child::after {width: 0;}#sk-container-id-1 div.sk-dashed-wrapped {border: 1px dashed gray;margin: 0 0.4em 0.5em 0.4em;box-sizing: border-box;padding-bottom: 0.4em;background-color: white;}#sk-container-id-1 div.sk-label label {font-family: monospace;font-weight: bold;display: inline-block;line-height: 1.2em;}#sk-container-id-1 div.sk-label-container {text-align: center;}#sk-container-id-1 div.sk-container {/* jupyter's `normalize.less` sets `[hidden] { display: none; }` but bootstrap.min.css set `[hidden] { display: none !important; }` so we also need the `!important` here to be able to override the default hidden behavior on the sphinx rendered scikit-learn.org. See: https://github.com/scikit-learn/scikit-learn/issues/21755 */display: inline-block !important;position: relative;}#sk-container-id-1 div.sk-text-repr-fallback {display: none;}</style><div id=\"sk-container-id-1\" class=\"sk-top-container\"><div class=\"sk-text-repr-fallback\"><pre>Pipeline(steps=[(&#x27;vectorizer&#x27;, CountVectorizer()),\n",
       "                (&#x27;classifier&#x27;, RandomForestClassifier())])</pre><b>In a Jupyter environment, please rerun this cell to show the HTML representation or trust the notebook. <br />On GitHub, the HTML representation is unable to render, please try loading this page with nbviewer.org.</b></div><div class=\"sk-container\" hidden><div class=\"sk-item sk-dashed-wrapped\"><div class=\"sk-label-container\"><div class=\"sk-label sk-toggleable\"><input class=\"sk-toggleable__control sk-hidden--visually\" id=\"sk-estimator-id-1\" type=\"checkbox\" ><label for=\"sk-estimator-id-1\" class=\"sk-toggleable__label sk-toggleable__label-arrow\">Pipeline</label><div class=\"sk-toggleable__content\"><pre>Pipeline(steps=[(&#x27;vectorizer&#x27;, CountVectorizer()),\n",
       "                (&#x27;classifier&#x27;, RandomForestClassifier())])</pre></div></div></div><div class=\"sk-serial\"><div class=\"sk-item\"><div class=\"sk-estimator sk-toggleable\"><input class=\"sk-toggleable__control sk-hidden--visually\" id=\"sk-estimator-id-2\" type=\"checkbox\" ><label for=\"sk-estimator-id-2\" class=\"sk-toggleable__label sk-toggleable__label-arrow\">CountVectorizer</label><div class=\"sk-toggleable__content\"><pre>CountVectorizer()</pre></div></div></div><div class=\"sk-item\"><div class=\"sk-estimator sk-toggleable\"><input class=\"sk-toggleable__control sk-hidden--visually\" id=\"sk-estimator-id-3\" type=\"checkbox\" ><label for=\"sk-estimator-id-3\" class=\"sk-toggleable__label sk-toggleable__label-arrow\">RandomForestClassifier</label><div class=\"sk-toggleable__content\"><pre>RandomForestClassifier()</pre></div></div></div></div></div></div></div>"
      ],
      "text/plain": [
       "Pipeline(steps=[('vectorizer', CountVectorizer()),\n",
       "                ('classifier', RandomForestClassifier())])"
      ]
     },
     "execution_count": 27,
     "metadata": {},
     "output_type": "execute_result"
    }
   ],
   "source": [
    "def create_pipeline(model_type='linear', output_model_path='trained_model.joblib'):\n",
    "    # Étape 1 : Charger le dataset\n",
    "    df = make_dataset(\"names_train.csv\")\n",
    "\n",
    "    # Étape 2 : Séparer les données en ensembles d'entraînement et de test\n",
    "    X = df[\"video_name\"]  # Supposons que la colonne contenant les titres s'appelle 'title'\n",
    "    y = df[\"is_comic\"]  # Supposons que la cible s'appelle 'is_comic'\n",
    "\n",
    "    # Diviser les données en 80% pour l'entraînement et 20% pour le test\n",
    "    X_train, X_test, y_train, y_test = train_test_split(X, y, test_size=0.2, random_state=42)\n",
    "\n",
    "    # Étape 3 : Choisir le modèle en fonction du type spécifié\n",
    "    if model_type == 'linear':\n",
    "        classifier = LogisticRegression()\n",
    "    elif model_type == 'random_forest':\n",
    "        classifier = RandomForestClassifier()\n",
    "    else:\n",
    "        raise ValueError(\"Le type de modèle doit être 'linear' ou 'random_forest'.\")\n",
    "\n",
    "    # Étape 4 : Créer la pipeline de transformation et d'entraînement\n",
    "    pipeline = Pipeline([\n",
    "        ('vectorizer', CountVectorizer()),  # Transformer les titres en mots encodés (one-hot encoding)\n",
    "        ('classifier', classifier)  # Modèle choisi (régression logistique ou forêt aléatoire)\n",
    "    ])\n",
    "\n",
    "    # Étape 5 : Entraîner le modèle sur les données d'entraînement\n",
    "    pipeline.fit(X_train, y_train)\n",
    "    print(f\"Entraînement du modèle {model_type} terminé.\")\n",
    "\n",
    "    # Étape 6 : Sauvegarder le modèle entraîné dans un fichier .joblib\n",
    "    dump(pipeline, output_model_path)\n",
    "    print(f\"Modèle sauvegardé dans le fichier : {output_model_path}\")\n",
    "\n",
    "    # Retourner la pipeline pour une éventuelle utilisation ultérieure\n",
    "    return pipeline\n",
    "\n",
    "# Exemple d'utilisation : créer et entraîner une pipeline avec un modèle linéaire\n",
    "create_pipeline(model_type='linear', output_model_path='linear_model.joblib')\n",
    "\n",
    "# Exemple d'utilisation : créer et entraîner une pipeline avec un modèle Random Forest\n",
    "create_pipeline(model_type='random_forest', output_model_path='random_forest_model.joblib')"
   ]
  },
  {
   "cell_type": "markdown",
   "id": "c10574a6",
   "metadata": {},
   "source": [
    "PIPELINE PREDICT"
   ]
  },
  {
   "cell_type": "code",
   "execution_count": 29,
   "id": "47adb3b0",
   "metadata": {},
   "outputs": [
    {
     "name": "stdout",
     "output_type": "stream",
     "text": [
      "Modèle chargé depuis : linear_model.joblib\n",
      "Titre: 'Ma chronique préférée' --> Prédiction: non comique\n",
      "Titre: 'Vidéo de stand-up hilarante' --> Prédiction: non comique\n",
      "Titre: 'Analyse sérieuse d’un sujet politique' --> Prédiction: non comique\n"
     ]
    },
    {
     "data": {
      "text/plain": [
       "array([0, 0, 0], dtype=int64)"
      ]
     },
     "execution_count": 29,
     "metadata": {},
     "output_type": "execute_result"
    }
   ],
   "source": [
    "# Fonction pour charger le modèle sauvegardé et faire des prédictions sur de nouveaux titres\n",
    "def predict_with_model(model_path='trained_model.joblib', new_titles=['Exemple de titre de vidéo']):\n",
    "    # Étape 1 : Charger le modèle entraîné à partir du fichier .joblib\n",
    "    try:\n",
    "        pipeline = load(model_path)\n",
    "        print(f\"Modèle chargé depuis : {model_path}\")\n",
    "    except FileNotFoundError:\n",
    "        print(f\"Fichier de modèle '{model_path}' non trouvé. Veuillez vérifier le chemin.\")\n",
    "        return None\n",
    "\n",
    "    # Étape 2 : Faire des prédictions sur les nouveaux titres de vidéos\n",
    "    predictions = pipeline.predict(new_titles)\n",
    "\n",
    "    # Afficher les titres avec leurs prédictions\n",
    "    for title, prediction in zip(new_titles, predictions):\n",
    "        print(f\"Titre: '{title}' --> Prédiction: {'comique' if prediction else 'non comique'}\")\n",
    "\n",
    "    return predictions\n",
    "\n",
    "# Exemple d'utilisation de la fonction de prédiction\n",
    "predict_with_model(\n",
    "    model_path='linear_model.joblib', \n",
    "    new_titles=['Ma chronique préférée', 'Vidéo de stand-up hilarante', 'Analyse sérieuse d’un sujet politique']\n",
    ")\n"
   ]
  },
  {
   "cell_type": "code",
   "execution_count": null,
   "id": "55121418",
   "metadata": {},
   "outputs": [],
   "source": []
  }
 ],
 "metadata": {
  "kernelspec": {
   "display_name": "Python 3 (ipykernel)",
   "language": "python",
   "name": "python3"
  },
  "language_info": {
   "codemirror_mode": {
    "name": "ipython",
    "version": 3
   },
   "file_extension": ".py",
   "mimetype": "text/x-python",
   "name": "python",
   "nbconvert_exporter": "python",
   "pygments_lexer": "ipython3",
   "version": "3.11.5"
  }
 },
 "nbformat": 4,
 "nbformat_minor": 5
}
