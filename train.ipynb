{
 "cells": [
  {
   "cell_type": "code",
   "execution_count": 51,
   "metadata": {},
   "outputs": [],
   "source": [
    "import pandas as pd\n",
    "from sklearn.model_selection import train_test_split\n",
    "from sklearn.feature_extraction.text import CountVectorizer\n",
    "from sklearn.ensemble import RandomForestClassifier\n",
    "from sklearn.pipeline import Pipeline\n",
    "import joblib"
   ]
  },
  {
   "cell_type": "code",
   "execution_count": 52,
   "metadata": {},
   "outputs": [
    {
     "name": "stdout",
     "output_type": "stream",
     "text": [
      "                                          video_name  is_comic\n",
      "0  Le Débat Éco : la campagne présidentielle la m...         0\n",
      "1  Inflation pouvoir d'achat : une présidentielle...         0\n",
      "2  Vacances à Abu Dhabi - La chronique de Thomas Vdb         1\n",
      "3  Marion Cotillard : \"Explorer pourquoi l'amour ...         0\n",
      "4    Pileoufacisme - La chronique de Thomas Bidegain         1\n",
      "                                          video_name  is_comic\n",
      "0  De Gaulle et Jean Jaurès - Le Sketch avec Mano...         1\n",
      "1  Jean-Paul Sartre et Jean-Claude Duss font du s...         0\n",
      "2  Canicule : des températures pas très républica...         1\n",
      "3  Éric Woerth : \"On est dans une société de plus...         0\n",
      "4  Antoine Bondaz : \"L'objectif de la Chine sur l...         0\n"
     ]
    }
   ],
   "source": [
    "train_file_path = r'../../data/processed/train.csv'\n",
    "train_df = pd.read_csv(train_file_path)\n",
    "\n",
    "print(train_df.head())\n",
    "\n",
    "test_file_path = r'../../data/processed/test.csv'\n",
    "test_df = pd.read_csv(test_file_path)\n",
    "\n",
    "print(test_df.head())"
   ]
  },
  {
   "cell_type": "code",
   "execution_count": 53,
   "metadata": {},
   "outputs": [
    {
     "data": {
      "text/plain": [
       "'../../reports/random_forest_model.pkl'"
      ]
     },
     "execution_count": 53,
     "metadata": {},
     "output_type": "execute_result"
    }
   ],
   "source": [
    "# Séparer les features (titres des vidéos) et la cible (is_comic)\n",
    "train_X = train_df['video_name']\n",
    "train_y = train_df['is_comic']\n",
    "\n",
    "# Construire une pipeline avec CountVectorizer et RandomForestClassifier\n",
    "pipeline = Pipeline([\n",
    "    ('vectorizer', CountVectorizer()),  # Transformer les titres en vecteurs\n",
    "    ('classifier', RandomForestClassifier(random_state=42))  # Modèle de forêt aléatoire\n",
    "])\n",
    "\n",
    "# Entraîner le modèle\n",
    "pipeline.fit(train_X, train_y)\n",
    "\n",
    "# Sauvegarder le modèle dans un fichier\n",
    "model_path = r'../../reports/random_forest_model.pkl'\n",
    "joblib.dump(pipeline, model_path)\n",
    "\n",
    "model_path  # Retourner le chemin du modèle sauvegardé"
   ]
  },
  {
   "cell_type": "code",
   "execution_count": 54,
   "metadata": {},
   "outputs": [
    {
     "name": "stdout",
     "output_type": "stream",
     "text": [
      "                                            video_name  is_comic\n",
      "0    Le Débat Éco : la campagne présidentielle la m...         0\n",
      "1    Inflation pouvoir d'achat : une présidentielle...         0\n",
      "2    Vacances à Abu Dhabi - La chronique de Thomas Vdb         1\n",
      "3    Marion Cotillard : \"Explorer pourquoi l'amour ...         0\n",
      "4      Pileoufacisme - La chronique de Thomas Bidegain         1\n",
      "..                                                 ...       ...\n",
      "694  On n'arrête pas l'éco avec Julia Cagé économis...         0\n",
      "695  Nouvelle espèce menaçante découverte par le Ge...         0\n",
      "696      Sécheresse : l'Ethiopie ne voit plus la pluie         0\n",
      "697  Champollion : le génial déchiffreur des hiérog...         0\n",
      "698  \"Ukraine la fin du monde russe\" sur Arte : au ...         0\n",
      "\n",
      "[699 rows x 2 columns]\n"
     ]
    }
   ],
   "source": [
    "# Charger le modèle entraîné\n",
    "loaded_model = joblib.load(model_path)\n",
    "\n",
    "dev_file_path = r'../../data/processed/dev.csv'\n",
    "dev_df = pd.read_csv(train_file_path)\n",
    "\n",
    "# Utiliser le modèle pour prédire sur les nouveaux titres\n",
    "dev_df['is_comic'] = loaded_model.predict(dev_df['video_name'])\n",
    "\n",
    "# Afficher les résultats de prédiction\n",
    "print(dev_df)"
   ]
  },
  {
   "cell_type": "code",
   "execution_count": null,
   "metadata": {},
   "outputs": [],
   "source": []
  }
 ],
 "metadata": {
  "kernelspec": {
   "display_name": "Python 3 (ipykernel)",
   "language": "python",
   "name": "python3"
  },
  "language_info": {
   "codemirror_mode": {
    "name": "ipython",
    "version": 3
   },
   "file_extension": ".py",
   "mimetype": "text/x-python",
   "name": "python",
   "nbconvert_exporter": "python",
   "pygments_lexer": "ipython3",
   "version": "3.11.5"
  }
 },
 "nbformat": 4,
 "nbformat_minor": 2
}
